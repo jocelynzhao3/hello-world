{
  "nbformat": 4,
  "nbformat_minor": 0,
  "metadata": {
    "colab": {
      "name": "Jocelyn Zhao - Fashion MNIST Final Project",
      "provenance": [],
      "collapsed_sections": [],
      "authorship_tag": "ABX9TyPmmOpwGGctlL9xRXOqywgy",
      "include_colab_link": true
    },
    "kernelspec": {
      "name": "python3",
      "display_name": "Python 3"
    },
    "language_info": {
      "name": "python"
    },
    "widgets": {
      "application/vnd.jupyter.widget-state+json": {
        "b64faa73a06a423e8b8b51798f3c76ea": {
          "model_module": "@jupyter-widgets/controls",
          "model_name": "HBoxModel",
          "model_module_version": "1.5.0",
          "state": {
            "_dom_classes": [],
            "_model_module": "@jupyter-widgets/controls",
            "_model_module_version": "1.5.0",
            "_model_name": "HBoxModel",
            "_view_count": null,
            "_view_module": "@jupyter-widgets/controls",
            "_view_module_version": "1.5.0",
            "_view_name": "HBoxView",
            "box_style": "",
            "children": [
              "IPY_MODEL_45a0cec95a4041ecba34da78a9157398",
              "IPY_MODEL_59637150361640049f035e5bb8c2ab17",
              "IPY_MODEL_73e555ef96b6460f93a7c1f9a3085694"
            ],
            "layout": "IPY_MODEL_e291fb683729421296a34949fadd3474"
          }
        },
        "45a0cec95a4041ecba34da78a9157398": {
          "model_module": "@jupyter-widgets/controls",
          "model_name": "HTMLModel",
          "model_module_version": "1.5.0",
          "state": {
            "_dom_classes": [],
            "_model_module": "@jupyter-widgets/controls",
            "_model_module_version": "1.5.0",
            "_model_name": "HTMLModel",
            "_view_count": null,
            "_view_module": "@jupyter-widgets/controls",
            "_view_module_version": "1.5.0",
            "_view_name": "HTMLView",
            "description": "",
            "description_tooltip": null,
            "layout": "IPY_MODEL_9809368c95e5400394c211d78154a763",
            "placeholder": "​",
            "style": "IPY_MODEL_27d67aade52c466d81ba420479a8915e",
            "value": "100%"
          }
        },
        "59637150361640049f035e5bb8c2ab17": {
          "model_module": "@jupyter-widgets/controls",
          "model_name": "FloatProgressModel",
          "model_module_version": "1.5.0",
          "state": {
            "_dom_classes": [],
            "_model_module": "@jupyter-widgets/controls",
            "_model_module_version": "1.5.0",
            "_model_name": "FloatProgressModel",
            "_view_count": null,
            "_view_module": "@jupyter-widgets/controls",
            "_view_module_version": "1.5.0",
            "_view_name": "ProgressView",
            "bar_style": "success",
            "description": "",
            "description_tooltip": null,
            "layout": "IPY_MODEL_284454c70b924d699ee808d6475ed069",
            "max": 26421880,
            "min": 0,
            "orientation": "horizontal",
            "style": "IPY_MODEL_a455e905a2ae430caf24b75c2c6b75ab",
            "value": 26421880
          }
        },
        "73e555ef96b6460f93a7c1f9a3085694": {
          "model_module": "@jupyter-widgets/controls",
          "model_name": "HTMLModel",
          "model_module_version": "1.5.0",
          "state": {
            "_dom_classes": [],
            "_model_module": "@jupyter-widgets/controls",
            "_model_module_version": "1.5.0",
            "_model_name": "HTMLModel",
            "_view_count": null,
            "_view_module": "@jupyter-widgets/controls",
            "_view_module_version": "1.5.0",
            "_view_name": "HTMLView",
            "description": "",
            "description_tooltip": null,
            "layout": "IPY_MODEL_3c8966f77f604182bd4f4b896854f47d",
            "placeholder": "​",
            "style": "IPY_MODEL_ae2cba0a9cb047a7aa4704235ffe8ccf",
            "value": " 26421880/26421880 [00:04&lt;00:00, 9694004.66it/s]"
          }
        },
        "e291fb683729421296a34949fadd3474": {
          "model_module": "@jupyter-widgets/base",
          "model_name": "LayoutModel",
          "model_module_version": "1.2.0",
          "state": {
            "_model_module": "@jupyter-widgets/base",
            "_model_module_version": "1.2.0",
            "_model_name": "LayoutModel",
            "_view_count": null,
            "_view_module": "@jupyter-widgets/base",
            "_view_module_version": "1.2.0",
            "_view_name": "LayoutView",
            "align_content": null,
            "align_items": null,
            "align_self": null,
            "border": null,
            "bottom": null,
            "display": null,
            "flex": null,
            "flex_flow": null,
            "grid_area": null,
            "grid_auto_columns": null,
            "grid_auto_flow": null,
            "grid_auto_rows": null,
            "grid_column": null,
            "grid_gap": null,
            "grid_row": null,
            "grid_template_areas": null,
            "grid_template_columns": null,
            "grid_template_rows": null,
            "height": null,
            "justify_content": null,
            "justify_items": null,
            "left": null,
            "margin": null,
            "max_height": null,
            "max_width": null,
            "min_height": null,
            "min_width": null,
            "object_fit": null,
            "object_position": null,
            "order": null,
            "overflow": null,
            "overflow_x": null,
            "overflow_y": null,
            "padding": null,
            "right": null,
            "top": null,
            "visibility": null,
            "width": null
          }
        },
        "9809368c95e5400394c211d78154a763": {
          "model_module": "@jupyter-widgets/base",
          "model_name": "LayoutModel",
          "model_module_version": "1.2.0",
          "state": {
            "_model_module": "@jupyter-widgets/base",
            "_model_module_version": "1.2.0",
            "_model_name": "LayoutModel",
            "_view_count": null,
            "_view_module": "@jupyter-widgets/base",
            "_view_module_version": "1.2.0",
            "_view_name": "LayoutView",
            "align_content": null,
            "align_items": null,
            "align_self": null,
            "border": null,
            "bottom": null,
            "display": null,
            "flex": null,
            "flex_flow": null,
            "grid_area": null,
            "grid_auto_columns": null,
            "grid_auto_flow": null,
            "grid_auto_rows": null,
            "grid_column": null,
            "grid_gap": null,
            "grid_row": null,
            "grid_template_areas": null,
            "grid_template_columns": null,
            "grid_template_rows": null,
            "height": null,
            "justify_content": null,
            "justify_items": null,
            "left": null,
            "margin": null,
            "max_height": null,
            "max_width": null,
            "min_height": null,
            "min_width": null,
            "object_fit": null,
            "object_position": null,
            "order": null,
            "overflow": null,
            "overflow_x": null,
            "overflow_y": null,
            "padding": null,
            "right": null,
            "top": null,
            "visibility": null,
            "width": null
          }
        },
        "27d67aade52c466d81ba420479a8915e": {
          "model_module": "@jupyter-widgets/controls",
          "model_name": "DescriptionStyleModel",
          "model_module_version": "1.5.0",
          "state": {
            "_model_module": "@jupyter-widgets/controls",
            "_model_module_version": "1.5.0",
            "_model_name": "DescriptionStyleModel",
            "_view_count": null,
            "_view_module": "@jupyter-widgets/base",
            "_view_module_version": "1.2.0",
            "_view_name": "StyleView",
            "description_width": ""
          }
        },
        "284454c70b924d699ee808d6475ed069": {
          "model_module": "@jupyter-widgets/base",
          "model_name": "LayoutModel",
          "model_module_version": "1.2.0",
          "state": {
            "_model_module": "@jupyter-widgets/base",
            "_model_module_version": "1.2.0",
            "_model_name": "LayoutModel",
            "_view_count": null,
            "_view_module": "@jupyter-widgets/base",
            "_view_module_version": "1.2.0",
            "_view_name": "LayoutView",
            "align_content": null,
            "align_items": null,
            "align_self": null,
            "border": null,
            "bottom": null,
            "display": null,
            "flex": null,
            "flex_flow": null,
            "grid_area": null,
            "grid_auto_columns": null,
            "grid_auto_flow": null,
            "grid_auto_rows": null,
            "grid_column": null,
            "grid_gap": null,
            "grid_row": null,
            "grid_template_areas": null,
            "grid_template_columns": null,
            "grid_template_rows": null,
            "height": null,
            "justify_content": null,
            "justify_items": null,
            "left": null,
            "margin": null,
            "max_height": null,
            "max_width": null,
            "min_height": null,
            "min_width": null,
            "object_fit": null,
            "object_position": null,
            "order": null,
            "overflow": null,
            "overflow_x": null,
            "overflow_y": null,
            "padding": null,
            "right": null,
            "top": null,
            "visibility": null,
            "width": null
          }
        },
        "a455e905a2ae430caf24b75c2c6b75ab": {
          "model_module": "@jupyter-widgets/controls",
          "model_name": "ProgressStyleModel",
          "model_module_version": "1.5.0",
          "state": {
            "_model_module": "@jupyter-widgets/controls",
            "_model_module_version": "1.5.0",
            "_model_name": "ProgressStyleModel",
            "_view_count": null,
            "_view_module": "@jupyter-widgets/base",
            "_view_module_version": "1.2.0",
            "_view_name": "StyleView",
            "bar_color": null,
            "description_width": ""
          }
        },
        "3c8966f77f604182bd4f4b896854f47d": {
          "model_module": "@jupyter-widgets/base",
          "model_name": "LayoutModel",
          "model_module_version": "1.2.0",
          "state": {
            "_model_module": "@jupyter-widgets/base",
            "_model_module_version": "1.2.0",
            "_model_name": "LayoutModel",
            "_view_count": null,
            "_view_module": "@jupyter-widgets/base",
            "_view_module_version": "1.2.0",
            "_view_name": "LayoutView",
            "align_content": null,
            "align_items": null,
            "align_self": null,
            "border": null,
            "bottom": null,
            "display": null,
            "flex": null,
            "flex_flow": null,
            "grid_area": null,
            "grid_auto_columns": null,
            "grid_auto_flow": null,
            "grid_auto_rows": null,
            "grid_column": null,
            "grid_gap": null,
            "grid_row": null,
            "grid_template_areas": null,
            "grid_template_columns": null,
            "grid_template_rows": null,
            "height": null,
            "justify_content": null,
            "justify_items": null,
            "left": null,
            "margin": null,
            "max_height": null,
            "max_width": null,
            "min_height": null,
            "min_width": null,
            "object_fit": null,
            "object_position": null,
            "order": null,
            "overflow": null,
            "overflow_x": null,
            "overflow_y": null,
            "padding": null,
            "right": null,
            "top": null,
            "visibility": null,
            "width": null
          }
        },
        "ae2cba0a9cb047a7aa4704235ffe8ccf": {
          "model_module": "@jupyter-widgets/controls",
          "model_name": "DescriptionStyleModel",
          "model_module_version": "1.5.0",
          "state": {
            "_model_module": "@jupyter-widgets/controls",
            "_model_module_version": "1.5.0",
            "_model_name": "DescriptionStyleModel",
            "_view_count": null,
            "_view_module": "@jupyter-widgets/base",
            "_view_module_version": "1.2.0",
            "_view_name": "StyleView",
            "description_width": ""
          }
        },
        "2a8e90f22b3d487faabd0f88bde36b6a": {
          "model_module": "@jupyter-widgets/controls",
          "model_name": "HBoxModel",
          "model_module_version": "1.5.0",
          "state": {
            "_dom_classes": [],
            "_model_module": "@jupyter-widgets/controls",
            "_model_module_version": "1.5.0",
            "_model_name": "HBoxModel",
            "_view_count": null,
            "_view_module": "@jupyter-widgets/controls",
            "_view_module_version": "1.5.0",
            "_view_name": "HBoxView",
            "box_style": "",
            "children": [
              "IPY_MODEL_e2f959a2354140e6bcd7b869f13ee93b",
              "IPY_MODEL_fb9700cddd204bce9cdb7a71ea6e042b",
              "IPY_MODEL_113b656159824ebc8fbd40db5d225d1b"
            ],
            "layout": "IPY_MODEL_b1dbf5b6debc45acbbf4d18cb0737e69"
          }
        },
        "e2f959a2354140e6bcd7b869f13ee93b": {
          "model_module": "@jupyter-widgets/controls",
          "model_name": "HTMLModel",
          "model_module_version": "1.5.0",
          "state": {
            "_dom_classes": [],
            "_model_module": "@jupyter-widgets/controls",
            "_model_module_version": "1.5.0",
            "_model_name": "HTMLModel",
            "_view_count": null,
            "_view_module": "@jupyter-widgets/controls",
            "_view_module_version": "1.5.0",
            "_view_name": "HTMLView",
            "description": "",
            "description_tooltip": null,
            "layout": "IPY_MODEL_8f8d0fc06fc64affa5014dd2365d56bf",
            "placeholder": "​",
            "style": "IPY_MODEL_a82dc664b436414d8d737a13a91df2be",
            "value": "100%"
          }
        },
        "fb9700cddd204bce9cdb7a71ea6e042b": {
          "model_module": "@jupyter-widgets/controls",
          "model_name": "FloatProgressModel",
          "model_module_version": "1.5.0",
          "state": {
            "_dom_classes": [],
            "_model_module": "@jupyter-widgets/controls",
            "_model_module_version": "1.5.0",
            "_model_name": "FloatProgressModel",
            "_view_count": null,
            "_view_module": "@jupyter-widgets/controls",
            "_view_module_version": "1.5.0",
            "_view_name": "ProgressView",
            "bar_style": "success",
            "description": "",
            "description_tooltip": null,
            "layout": "IPY_MODEL_4a597277d91e4771ba0004b05ae71b2c",
            "max": 29515,
            "min": 0,
            "orientation": "horizontal",
            "style": "IPY_MODEL_96cf6d7626ce404b91b70bf8665f66b5",
            "value": 29515
          }
        },
        "113b656159824ebc8fbd40db5d225d1b": {
          "model_module": "@jupyter-widgets/controls",
          "model_name": "HTMLModel",
          "model_module_version": "1.5.0",
          "state": {
            "_dom_classes": [],
            "_model_module": "@jupyter-widgets/controls",
            "_model_module_version": "1.5.0",
            "_model_name": "HTMLModel",
            "_view_count": null,
            "_view_module": "@jupyter-widgets/controls",
            "_view_module_version": "1.5.0",
            "_view_name": "HTMLView",
            "description": "",
            "description_tooltip": null,
            "layout": "IPY_MODEL_ec4f0e48bd1c413fb13720ad957abce0",
            "placeholder": "​",
            "style": "IPY_MODEL_390eeae0c2e049fbb2e508786ad23c92",
            "value": " 29515/29515 [00:00&lt;00:00, 113328.12it/s]"
          }
        },
        "b1dbf5b6debc45acbbf4d18cb0737e69": {
          "model_module": "@jupyter-widgets/base",
          "model_name": "LayoutModel",
          "model_module_version": "1.2.0",
          "state": {
            "_model_module": "@jupyter-widgets/base",
            "_model_module_version": "1.2.0",
            "_model_name": "LayoutModel",
            "_view_count": null,
            "_view_module": "@jupyter-widgets/base",
            "_view_module_version": "1.2.0",
            "_view_name": "LayoutView",
            "align_content": null,
            "align_items": null,
            "align_self": null,
            "border": null,
            "bottom": null,
            "display": null,
            "flex": null,
            "flex_flow": null,
            "grid_area": null,
            "grid_auto_columns": null,
            "grid_auto_flow": null,
            "grid_auto_rows": null,
            "grid_column": null,
            "grid_gap": null,
            "grid_row": null,
            "grid_template_areas": null,
            "grid_template_columns": null,
            "grid_template_rows": null,
            "height": null,
            "justify_content": null,
            "justify_items": null,
            "left": null,
            "margin": null,
            "max_height": null,
            "max_width": null,
            "min_height": null,
            "min_width": null,
            "object_fit": null,
            "object_position": null,
            "order": null,
            "overflow": null,
            "overflow_x": null,
            "overflow_y": null,
            "padding": null,
            "right": null,
            "top": null,
            "visibility": null,
            "width": null
          }
        },
        "8f8d0fc06fc64affa5014dd2365d56bf": {
          "model_module": "@jupyter-widgets/base",
          "model_name": "LayoutModel",
          "model_module_version": "1.2.0",
          "state": {
            "_model_module": "@jupyter-widgets/base",
            "_model_module_version": "1.2.0",
            "_model_name": "LayoutModel",
            "_view_count": null,
            "_view_module": "@jupyter-widgets/base",
            "_view_module_version": "1.2.0",
            "_view_name": "LayoutView",
            "align_content": null,
            "align_items": null,
            "align_self": null,
            "border": null,
            "bottom": null,
            "display": null,
            "flex": null,
            "flex_flow": null,
            "grid_area": null,
            "grid_auto_columns": null,
            "grid_auto_flow": null,
            "grid_auto_rows": null,
            "grid_column": null,
            "grid_gap": null,
            "grid_row": null,
            "grid_template_areas": null,
            "grid_template_columns": null,
            "grid_template_rows": null,
            "height": null,
            "justify_content": null,
            "justify_items": null,
            "left": null,
            "margin": null,
            "max_height": null,
            "max_width": null,
            "min_height": null,
            "min_width": null,
            "object_fit": null,
            "object_position": null,
            "order": null,
            "overflow": null,
            "overflow_x": null,
            "overflow_y": null,
            "padding": null,
            "right": null,
            "top": null,
            "visibility": null,
            "width": null
          }
        },
        "a82dc664b436414d8d737a13a91df2be": {
          "model_module": "@jupyter-widgets/controls",
          "model_name": "DescriptionStyleModel",
          "model_module_version": "1.5.0",
          "state": {
            "_model_module": "@jupyter-widgets/controls",
            "_model_module_version": "1.5.0",
            "_model_name": "DescriptionStyleModel",
            "_view_count": null,
            "_view_module": "@jupyter-widgets/base",
            "_view_module_version": "1.2.0",
            "_view_name": "StyleView",
            "description_width": ""
          }
        },
        "4a597277d91e4771ba0004b05ae71b2c": {
          "model_module": "@jupyter-widgets/base",
          "model_name": "LayoutModel",
          "model_module_version": "1.2.0",
          "state": {
            "_model_module": "@jupyter-widgets/base",
            "_model_module_version": "1.2.0",
            "_model_name": "LayoutModel",
            "_view_count": null,
            "_view_module": "@jupyter-widgets/base",
            "_view_module_version": "1.2.0",
            "_view_name": "LayoutView",
            "align_content": null,
            "align_items": null,
            "align_self": null,
            "border": null,
            "bottom": null,
            "display": null,
            "flex": null,
            "flex_flow": null,
            "grid_area": null,
            "grid_auto_columns": null,
            "grid_auto_flow": null,
            "grid_auto_rows": null,
            "grid_column": null,
            "grid_gap": null,
            "grid_row": null,
            "grid_template_areas": null,
            "grid_template_columns": null,
            "grid_template_rows": null,
            "height": null,
            "justify_content": null,
            "justify_items": null,
            "left": null,
            "margin": null,
            "max_height": null,
            "max_width": null,
            "min_height": null,
            "min_width": null,
            "object_fit": null,
            "object_position": null,
            "order": null,
            "overflow": null,
            "overflow_x": null,
            "overflow_y": null,
            "padding": null,
            "right": null,
            "top": null,
            "visibility": null,
            "width": null
          }
        },
        "96cf6d7626ce404b91b70bf8665f66b5": {
          "model_module": "@jupyter-widgets/controls",
          "model_name": "ProgressStyleModel",
          "model_module_version": "1.5.0",
          "state": {
            "_model_module": "@jupyter-widgets/controls",
            "_model_module_version": "1.5.0",
            "_model_name": "ProgressStyleModel",
            "_view_count": null,
            "_view_module": "@jupyter-widgets/base",
            "_view_module_version": "1.2.0",
            "_view_name": "StyleView",
            "bar_color": null,
            "description_width": ""
          }
        },
        "ec4f0e48bd1c413fb13720ad957abce0": {
          "model_module": "@jupyter-widgets/base",
          "model_name": "LayoutModel",
          "model_module_version": "1.2.0",
          "state": {
            "_model_module": "@jupyter-widgets/base",
            "_model_module_version": "1.2.0",
            "_model_name": "LayoutModel",
            "_view_count": null,
            "_view_module": "@jupyter-widgets/base",
            "_view_module_version": "1.2.0",
            "_view_name": "LayoutView",
            "align_content": null,
            "align_items": null,
            "align_self": null,
            "border": null,
            "bottom": null,
            "display": null,
            "flex": null,
            "flex_flow": null,
            "grid_area": null,
            "grid_auto_columns": null,
            "grid_auto_flow": null,
            "grid_auto_rows": null,
            "grid_column": null,
            "grid_gap": null,
            "grid_row": null,
            "grid_template_areas": null,
            "grid_template_columns": null,
            "grid_template_rows": null,
            "height": null,
            "justify_content": null,
            "justify_items": null,
            "left": null,
            "margin": null,
            "max_height": null,
            "max_width": null,
            "min_height": null,
            "min_width": null,
            "object_fit": null,
            "object_position": null,
            "order": null,
            "overflow": null,
            "overflow_x": null,
            "overflow_y": null,
            "padding": null,
            "right": null,
            "top": null,
            "visibility": null,
            "width": null
          }
        },
        "390eeae0c2e049fbb2e508786ad23c92": {
          "model_module": "@jupyter-widgets/controls",
          "model_name": "DescriptionStyleModel",
          "model_module_version": "1.5.0",
          "state": {
            "_model_module": "@jupyter-widgets/controls",
            "_model_module_version": "1.5.0",
            "_model_name": "DescriptionStyleModel",
            "_view_count": null,
            "_view_module": "@jupyter-widgets/base",
            "_view_module_version": "1.2.0",
            "_view_name": "StyleView",
            "description_width": ""
          }
        },
        "662fc17a4b1f4b08ad51bddd5d6b154f": {
          "model_module": "@jupyter-widgets/controls",
          "model_name": "HBoxModel",
          "model_module_version": "1.5.0",
          "state": {
            "_dom_classes": [],
            "_model_module": "@jupyter-widgets/controls",
            "_model_module_version": "1.5.0",
            "_model_name": "HBoxModel",
            "_view_count": null,
            "_view_module": "@jupyter-widgets/controls",
            "_view_module_version": "1.5.0",
            "_view_name": "HBoxView",
            "box_style": "",
            "children": [
              "IPY_MODEL_81fde903ca824ebfbabd3e13a0568d86",
              "IPY_MODEL_b91dcc7e92ae48e59a66d40834927982",
              "IPY_MODEL_5c8a6760f8bf4e5fafb17e4a1e746d83"
            ],
            "layout": "IPY_MODEL_b35a6f84f4a84c8384fb826047aa7261"
          }
        },
        "81fde903ca824ebfbabd3e13a0568d86": {
          "model_module": "@jupyter-widgets/controls",
          "model_name": "HTMLModel",
          "model_module_version": "1.5.0",
          "state": {
            "_dom_classes": [],
            "_model_module": "@jupyter-widgets/controls",
            "_model_module_version": "1.5.0",
            "_model_name": "HTMLModel",
            "_view_count": null,
            "_view_module": "@jupyter-widgets/controls",
            "_view_module_version": "1.5.0",
            "_view_name": "HTMLView",
            "description": "",
            "description_tooltip": null,
            "layout": "IPY_MODEL_f7bce3f99b9141ee89d44102d47a6e71",
            "placeholder": "​",
            "style": "IPY_MODEL_c0740c2f298d4ab28edd6c8c2da513d0",
            "value": "100%"
          }
        },
        "b91dcc7e92ae48e59a66d40834927982": {
          "model_module": "@jupyter-widgets/controls",
          "model_name": "FloatProgressModel",
          "model_module_version": "1.5.0",
          "state": {
            "_dom_classes": [],
            "_model_module": "@jupyter-widgets/controls",
            "_model_module_version": "1.5.0",
            "_model_name": "FloatProgressModel",
            "_view_count": null,
            "_view_module": "@jupyter-widgets/controls",
            "_view_module_version": "1.5.0",
            "_view_name": "ProgressView",
            "bar_style": "success",
            "description": "",
            "description_tooltip": null,
            "layout": "IPY_MODEL_4f2bd87bfee64bf58a72c552ee27ced9",
            "max": 4422102,
            "min": 0,
            "orientation": "horizontal",
            "style": "IPY_MODEL_187e1741c45f487da652c84625b86642",
            "value": 4422102
          }
        },
        "5c8a6760f8bf4e5fafb17e4a1e746d83": {
          "model_module": "@jupyter-widgets/controls",
          "model_name": "HTMLModel",
          "model_module_version": "1.5.0",
          "state": {
            "_dom_classes": [],
            "_model_module": "@jupyter-widgets/controls",
            "_model_module_version": "1.5.0",
            "_model_name": "HTMLModel",
            "_view_count": null,
            "_view_module": "@jupyter-widgets/controls",
            "_view_module_version": "1.5.0",
            "_view_name": "HTMLView",
            "description": "",
            "description_tooltip": null,
            "layout": "IPY_MODEL_af8e83dcbc8f431b9cd6259a584cd973",
            "placeholder": "​",
            "style": "IPY_MODEL_70632968903d473ea7b10866a01fc2e9",
            "value": " 4422102/4422102 [00:02&lt;00:00, 3139603.88it/s]"
          }
        },
        "b35a6f84f4a84c8384fb826047aa7261": {
          "model_module": "@jupyter-widgets/base",
          "model_name": "LayoutModel",
          "model_module_version": "1.2.0",
          "state": {
            "_model_module": "@jupyter-widgets/base",
            "_model_module_version": "1.2.0",
            "_model_name": "LayoutModel",
            "_view_count": null,
            "_view_module": "@jupyter-widgets/base",
            "_view_module_version": "1.2.0",
            "_view_name": "LayoutView",
            "align_content": null,
            "align_items": null,
            "align_self": null,
            "border": null,
            "bottom": null,
            "display": null,
            "flex": null,
            "flex_flow": null,
            "grid_area": null,
            "grid_auto_columns": null,
            "grid_auto_flow": null,
            "grid_auto_rows": null,
            "grid_column": null,
            "grid_gap": null,
            "grid_row": null,
            "grid_template_areas": null,
            "grid_template_columns": null,
            "grid_template_rows": null,
            "height": null,
            "justify_content": null,
            "justify_items": null,
            "left": null,
            "margin": null,
            "max_height": null,
            "max_width": null,
            "min_height": null,
            "min_width": null,
            "object_fit": null,
            "object_position": null,
            "order": null,
            "overflow": null,
            "overflow_x": null,
            "overflow_y": null,
            "padding": null,
            "right": null,
            "top": null,
            "visibility": null,
            "width": null
          }
        },
        "f7bce3f99b9141ee89d44102d47a6e71": {
          "model_module": "@jupyter-widgets/base",
          "model_name": "LayoutModel",
          "model_module_version": "1.2.0",
          "state": {
            "_model_module": "@jupyter-widgets/base",
            "_model_module_version": "1.2.0",
            "_model_name": "LayoutModel",
            "_view_count": null,
            "_view_module": "@jupyter-widgets/base",
            "_view_module_version": "1.2.0",
            "_view_name": "LayoutView",
            "align_content": null,
            "align_items": null,
            "align_self": null,
            "border": null,
            "bottom": null,
            "display": null,
            "flex": null,
            "flex_flow": null,
            "grid_area": null,
            "grid_auto_columns": null,
            "grid_auto_flow": null,
            "grid_auto_rows": null,
            "grid_column": null,
            "grid_gap": null,
            "grid_row": null,
            "grid_template_areas": null,
            "grid_template_columns": null,
            "grid_template_rows": null,
            "height": null,
            "justify_content": null,
            "justify_items": null,
            "left": null,
            "margin": null,
            "max_height": null,
            "max_width": null,
            "min_height": null,
            "min_width": null,
            "object_fit": null,
            "object_position": null,
            "order": null,
            "overflow": null,
            "overflow_x": null,
            "overflow_y": null,
            "padding": null,
            "right": null,
            "top": null,
            "visibility": null,
            "width": null
          }
        },
        "c0740c2f298d4ab28edd6c8c2da513d0": {
          "model_module": "@jupyter-widgets/controls",
          "model_name": "DescriptionStyleModel",
          "model_module_version": "1.5.0",
          "state": {
            "_model_module": "@jupyter-widgets/controls",
            "_model_module_version": "1.5.0",
            "_model_name": "DescriptionStyleModel",
            "_view_count": null,
            "_view_module": "@jupyter-widgets/base",
            "_view_module_version": "1.2.0",
            "_view_name": "StyleView",
            "description_width": ""
          }
        },
        "4f2bd87bfee64bf58a72c552ee27ced9": {
          "model_module": "@jupyter-widgets/base",
          "model_name": "LayoutModel",
          "model_module_version": "1.2.0",
          "state": {
            "_model_module": "@jupyter-widgets/base",
            "_model_module_version": "1.2.0",
            "_model_name": "LayoutModel",
            "_view_count": null,
            "_view_module": "@jupyter-widgets/base",
            "_view_module_version": "1.2.0",
            "_view_name": "LayoutView",
            "align_content": null,
            "align_items": null,
            "align_self": null,
            "border": null,
            "bottom": null,
            "display": null,
            "flex": null,
            "flex_flow": null,
            "grid_area": null,
            "grid_auto_columns": null,
            "grid_auto_flow": null,
            "grid_auto_rows": null,
            "grid_column": null,
            "grid_gap": null,
            "grid_row": null,
            "grid_template_areas": null,
            "grid_template_columns": null,
            "grid_template_rows": null,
            "height": null,
            "justify_content": null,
            "justify_items": null,
            "left": null,
            "margin": null,
            "max_height": null,
            "max_width": null,
            "min_height": null,
            "min_width": null,
            "object_fit": null,
            "object_position": null,
            "order": null,
            "overflow": null,
            "overflow_x": null,
            "overflow_y": null,
            "padding": null,
            "right": null,
            "top": null,
            "visibility": null,
            "width": null
          }
        },
        "187e1741c45f487da652c84625b86642": {
          "model_module": "@jupyter-widgets/controls",
          "model_name": "ProgressStyleModel",
          "model_module_version": "1.5.0",
          "state": {
            "_model_module": "@jupyter-widgets/controls",
            "_model_module_version": "1.5.0",
            "_model_name": "ProgressStyleModel",
            "_view_count": null,
            "_view_module": "@jupyter-widgets/base",
            "_view_module_version": "1.2.0",
            "_view_name": "StyleView",
            "bar_color": null,
            "description_width": ""
          }
        },
        "af8e83dcbc8f431b9cd6259a584cd973": {
          "model_module": "@jupyter-widgets/base",
          "model_name": "LayoutModel",
          "model_module_version": "1.2.0",
          "state": {
            "_model_module": "@jupyter-widgets/base",
            "_model_module_version": "1.2.0",
            "_model_name": "LayoutModel",
            "_view_count": null,
            "_view_module": "@jupyter-widgets/base",
            "_view_module_version": "1.2.0",
            "_view_name": "LayoutView",
            "align_content": null,
            "align_items": null,
            "align_self": null,
            "border": null,
            "bottom": null,
            "display": null,
            "flex": null,
            "flex_flow": null,
            "grid_area": null,
            "grid_auto_columns": null,
            "grid_auto_flow": null,
            "grid_auto_rows": null,
            "grid_column": null,
            "grid_gap": null,
            "grid_row": null,
            "grid_template_areas": null,
            "grid_template_columns": null,
            "grid_template_rows": null,
            "height": null,
            "justify_content": null,
            "justify_items": null,
            "left": null,
            "margin": null,
            "max_height": null,
            "max_width": null,
            "min_height": null,
            "min_width": null,
            "object_fit": null,
            "object_position": null,
            "order": null,
            "overflow": null,
            "overflow_x": null,
            "overflow_y": null,
            "padding": null,
            "right": null,
            "top": null,
            "visibility": null,
            "width": null
          }
        },
        "70632968903d473ea7b10866a01fc2e9": {
          "model_module": "@jupyter-widgets/controls",
          "model_name": "DescriptionStyleModel",
          "model_module_version": "1.5.0",
          "state": {
            "_model_module": "@jupyter-widgets/controls",
            "_model_module_version": "1.5.0",
            "_model_name": "DescriptionStyleModel",
            "_view_count": null,
            "_view_module": "@jupyter-widgets/base",
            "_view_module_version": "1.2.0",
            "_view_name": "StyleView",
            "description_width": ""
          }
        },
        "89e12bb8129d484980745a0f8e439640": {
          "model_module": "@jupyter-widgets/controls",
          "model_name": "HBoxModel",
          "model_module_version": "1.5.0",
          "state": {
            "_dom_classes": [],
            "_model_module": "@jupyter-widgets/controls",
            "_model_module_version": "1.5.0",
            "_model_name": "HBoxModel",
            "_view_count": null,
            "_view_module": "@jupyter-widgets/controls",
            "_view_module_version": "1.5.0",
            "_view_name": "HBoxView",
            "box_style": "",
            "children": [
              "IPY_MODEL_295e1bc51ae8457e99990181f71b1ed0",
              "IPY_MODEL_547bc33067ba47f48a019498cd90d4d6",
              "IPY_MODEL_6f7db26d87d643ee9e63fa28def8a4c4"
            ],
            "layout": "IPY_MODEL_398c6d468d7c45889573d82a5d9defc7"
          }
        },
        "295e1bc51ae8457e99990181f71b1ed0": {
          "model_module": "@jupyter-widgets/controls",
          "model_name": "HTMLModel",
          "model_module_version": "1.5.0",
          "state": {
            "_dom_classes": [],
            "_model_module": "@jupyter-widgets/controls",
            "_model_module_version": "1.5.0",
            "_model_name": "HTMLModel",
            "_view_count": null,
            "_view_module": "@jupyter-widgets/controls",
            "_view_module_version": "1.5.0",
            "_view_name": "HTMLView",
            "description": "",
            "description_tooltip": null,
            "layout": "IPY_MODEL_32d4769844e94045a337bb5a5e2bb7a4",
            "placeholder": "​",
            "style": "IPY_MODEL_933d50ddb0f74587a855d7ab85042337",
            "value": "100%"
          }
        },
        "547bc33067ba47f48a019498cd90d4d6": {
          "model_module": "@jupyter-widgets/controls",
          "model_name": "FloatProgressModel",
          "model_module_version": "1.5.0",
          "state": {
            "_dom_classes": [],
            "_model_module": "@jupyter-widgets/controls",
            "_model_module_version": "1.5.0",
            "_model_name": "FloatProgressModel",
            "_view_count": null,
            "_view_module": "@jupyter-widgets/controls",
            "_view_module_version": "1.5.0",
            "_view_name": "ProgressView",
            "bar_style": "success",
            "description": "",
            "description_tooltip": null,
            "layout": "IPY_MODEL_514b820c1a6d438fb5222dd62a0237dd",
            "max": 5148,
            "min": 0,
            "orientation": "horizontal",
            "style": "IPY_MODEL_8ca9bd3f697d4bc7863be78d9226fb1e",
            "value": 5148
          }
        },
        "6f7db26d87d643ee9e63fa28def8a4c4": {
          "model_module": "@jupyter-widgets/controls",
          "model_name": "HTMLModel",
          "model_module_version": "1.5.0",
          "state": {
            "_dom_classes": [],
            "_model_module": "@jupyter-widgets/controls",
            "_model_module_version": "1.5.0",
            "_model_name": "HTMLModel",
            "_view_count": null,
            "_view_module": "@jupyter-widgets/controls",
            "_view_module_version": "1.5.0",
            "_view_name": "HTMLView",
            "description": "",
            "description_tooltip": null,
            "layout": "IPY_MODEL_6335592a8c0646a3b5bb005d4ca6bf58",
            "placeholder": "​",
            "style": "IPY_MODEL_c15f5398564d45b78b764bb189c1184f",
            "value": " 5148/5148 [00:00&lt;00:00, 147543.66it/s]"
          }
        },
        "398c6d468d7c45889573d82a5d9defc7": {
          "model_module": "@jupyter-widgets/base",
          "model_name": "LayoutModel",
          "model_module_version": "1.2.0",
          "state": {
            "_model_module": "@jupyter-widgets/base",
            "_model_module_version": "1.2.0",
            "_model_name": "LayoutModel",
            "_view_count": null,
            "_view_module": "@jupyter-widgets/base",
            "_view_module_version": "1.2.0",
            "_view_name": "LayoutView",
            "align_content": null,
            "align_items": null,
            "align_self": null,
            "border": null,
            "bottom": null,
            "display": null,
            "flex": null,
            "flex_flow": null,
            "grid_area": null,
            "grid_auto_columns": null,
            "grid_auto_flow": null,
            "grid_auto_rows": null,
            "grid_column": null,
            "grid_gap": null,
            "grid_row": null,
            "grid_template_areas": null,
            "grid_template_columns": null,
            "grid_template_rows": null,
            "height": null,
            "justify_content": null,
            "justify_items": null,
            "left": null,
            "margin": null,
            "max_height": null,
            "max_width": null,
            "min_height": null,
            "min_width": null,
            "object_fit": null,
            "object_position": null,
            "order": null,
            "overflow": null,
            "overflow_x": null,
            "overflow_y": null,
            "padding": null,
            "right": null,
            "top": null,
            "visibility": null,
            "width": null
          }
        },
        "32d4769844e94045a337bb5a5e2bb7a4": {
          "model_module": "@jupyter-widgets/base",
          "model_name": "LayoutModel",
          "model_module_version": "1.2.0",
          "state": {
            "_model_module": "@jupyter-widgets/base",
            "_model_module_version": "1.2.0",
            "_model_name": "LayoutModel",
            "_view_count": null,
            "_view_module": "@jupyter-widgets/base",
            "_view_module_version": "1.2.0",
            "_view_name": "LayoutView",
            "align_content": null,
            "align_items": null,
            "align_self": null,
            "border": null,
            "bottom": null,
            "display": null,
            "flex": null,
            "flex_flow": null,
            "grid_area": null,
            "grid_auto_columns": null,
            "grid_auto_flow": null,
            "grid_auto_rows": null,
            "grid_column": null,
            "grid_gap": null,
            "grid_row": null,
            "grid_template_areas": null,
            "grid_template_columns": null,
            "grid_template_rows": null,
            "height": null,
            "justify_content": null,
            "justify_items": null,
            "left": null,
            "margin": null,
            "max_height": null,
            "max_width": null,
            "min_height": null,
            "min_width": null,
            "object_fit": null,
            "object_position": null,
            "order": null,
            "overflow": null,
            "overflow_x": null,
            "overflow_y": null,
            "padding": null,
            "right": null,
            "top": null,
            "visibility": null,
            "width": null
          }
        },
        "933d50ddb0f74587a855d7ab85042337": {
          "model_module": "@jupyter-widgets/controls",
          "model_name": "DescriptionStyleModel",
          "model_module_version": "1.5.0",
          "state": {
            "_model_module": "@jupyter-widgets/controls",
            "_model_module_version": "1.5.0",
            "_model_name": "DescriptionStyleModel",
            "_view_count": null,
            "_view_module": "@jupyter-widgets/base",
            "_view_module_version": "1.2.0",
            "_view_name": "StyleView",
            "description_width": ""
          }
        },
        "514b820c1a6d438fb5222dd62a0237dd": {
          "model_module": "@jupyter-widgets/base",
          "model_name": "LayoutModel",
          "model_module_version": "1.2.0",
          "state": {
            "_model_module": "@jupyter-widgets/base",
            "_model_module_version": "1.2.0",
            "_model_name": "LayoutModel",
            "_view_count": null,
            "_view_module": "@jupyter-widgets/base",
            "_view_module_version": "1.2.0",
            "_view_name": "LayoutView",
            "align_content": null,
            "align_items": null,
            "align_self": null,
            "border": null,
            "bottom": null,
            "display": null,
            "flex": null,
            "flex_flow": null,
            "grid_area": null,
            "grid_auto_columns": null,
            "grid_auto_flow": null,
            "grid_auto_rows": null,
            "grid_column": null,
            "grid_gap": null,
            "grid_row": null,
            "grid_template_areas": null,
            "grid_template_columns": null,
            "grid_template_rows": null,
            "height": null,
            "justify_content": null,
            "justify_items": null,
            "left": null,
            "margin": null,
            "max_height": null,
            "max_width": null,
            "min_height": null,
            "min_width": null,
            "object_fit": null,
            "object_position": null,
            "order": null,
            "overflow": null,
            "overflow_x": null,
            "overflow_y": null,
            "padding": null,
            "right": null,
            "top": null,
            "visibility": null,
            "width": null
          }
        },
        "8ca9bd3f697d4bc7863be78d9226fb1e": {
          "model_module": "@jupyter-widgets/controls",
          "model_name": "ProgressStyleModel",
          "model_module_version": "1.5.0",
          "state": {
            "_model_module": "@jupyter-widgets/controls",
            "_model_module_version": "1.5.0",
            "_model_name": "ProgressStyleModel",
            "_view_count": null,
            "_view_module": "@jupyter-widgets/base",
            "_view_module_version": "1.2.0",
            "_view_name": "StyleView",
            "bar_color": null,
            "description_width": ""
          }
        },
        "6335592a8c0646a3b5bb005d4ca6bf58": {
          "model_module": "@jupyter-widgets/base",
          "model_name": "LayoutModel",
          "model_module_version": "1.2.0",
          "state": {
            "_model_module": "@jupyter-widgets/base",
            "_model_module_version": "1.2.0",
            "_model_name": "LayoutModel",
            "_view_count": null,
            "_view_module": "@jupyter-widgets/base",
            "_view_module_version": "1.2.0",
            "_view_name": "LayoutView",
            "align_content": null,
            "align_items": null,
            "align_self": null,
            "border": null,
            "bottom": null,
            "display": null,
            "flex": null,
            "flex_flow": null,
            "grid_area": null,
            "grid_auto_columns": null,
            "grid_auto_flow": null,
            "grid_auto_rows": null,
            "grid_column": null,
            "grid_gap": null,
            "grid_row": null,
            "grid_template_areas": null,
            "grid_template_columns": null,
            "grid_template_rows": null,
            "height": null,
            "justify_content": null,
            "justify_items": null,
            "left": null,
            "margin": null,
            "max_height": null,
            "max_width": null,
            "min_height": null,
            "min_width": null,
            "object_fit": null,
            "object_position": null,
            "order": null,
            "overflow": null,
            "overflow_x": null,
            "overflow_y": null,
            "padding": null,
            "right": null,
            "top": null,
            "visibility": null,
            "width": null
          }
        },
        "c15f5398564d45b78b764bb189c1184f": {
          "model_module": "@jupyter-widgets/controls",
          "model_name": "DescriptionStyleModel",
          "model_module_version": "1.5.0",
          "state": {
            "_model_module": "@jupyter-widgets/controls",
            "_model_module_version": "1.5.0",
            "_model_name": "DescriptionStyleModel",
            "_view_count": null,
            "_view_module": "@jupyter-widgets/base",
            "_view_module_version": "1.2.0",
            "_view_name": "StyleView",
            "description_width": ""
          }
        }
      }
    }
  },
  "cells": [
    {
      "cell_type": "markdown",
      "metadata": {
        "id": "view-in-github",
        "colab_type": "text"
      },
      "source": [
        "<a href=\"https://colab.research.google.com/github/jocelynzhao3/hello-world/blob/main/Jocelyn_Zhao_Fashion_MNIST_Final_Project.ipynb\" target=\"_parent\"><img src=\"https://colab.research.google.com/assets/colab-badge.svg\" alt=\"Open In Colab\"/></a>"
      ]
    },
    {
      "cell_type": "markdown",
      "source": [
        "Fashion MNIST Final Project\n",
        "1. Write code [done]\n",
        "2. Change aspects until most effective"
      ],
      "metadata": {
        "id": "UyPhaX84DR9R"
      }
    },
    {
      "cell_type": "markdown",
      "source": [
        "Import libraries"
      ],
      "metadata": {
        "id": "VVnXY_TrqzVN"
      }
    },
    {
      "cell_type": "code",
      "execution_count": null,
      "metadata": {
        "id": "r7B8XN-nlxuB"
      },
      "outputs": [],
      "source": [
        "import math\n",
        "import numpy as np\n",
        "\n",
        "import torch\n",
        "from torch import nn, optim, cuda\n",
        "from torch.autograd import Variable\n",
        "from torch.utils.data import DataLoader\n",
        "from torch.optim.lr_scheduler import StepLR\n",
        "import torch.nn.functional as F\n",
        "\n",
        "import torchvision\n",
        "from torchvision import datasets, transforms\n",
        "\n",
        "### how to use GPU on mac???\n",
        "use_gpu=True\n",
        "if cuda.is_available():\n",
        "    # check if GPU is available\n",
        "    print(cuda.get_device_properties(0))\n",
        "\n",
        "# for visualization\n",
        "import matplotlib.pyplot as plt\n",
        "%matplotlib inline"
      ]
    },
    {
      "cell_type": "markdown",
      "source": [
        "Download dataset"
      ],
      "metadata": {
        "id": "NwY6Ct4_q6-i"
      }
    },
    {
      "cell_type": "code",
      "source": [
        "####### preparing transforming functions - how do these affect results?\n",
        "# data_tf=transforms.Compose([transforms.ToTensor(), transforms.Normalize([0.5],[0.5])])\n",
        "data_tf=transforms.Compose([transforms.ToTensor(), transforms.Normalize((0.1307,), (0.3081,))])\n",
        "\n",
        "# download datasets\n",
        "train_dataset = datasets.FashionMNIST(root='...', train=True, transform=data_tf, download=True)\n",
        "test_dataset = datasets.FashionMNIST(root='...', train=False, transform=data_tf, download=True)\n",
        "#does anything go in the root string? - just download and dont worry abt it\n",
        "\n"
      ],
      "metadata": {
        "id": "JAEFVLiXwI7v",
        "colab": {
          "base_uri": "https://localhost:8080/",
          "height": 417,
          "referenced_widgets": [
            "b64faa73a06a423e8b8b51798f3c76ea",
            "45a0cec95a4041ecba34da78a9157398",
            "59637150361640049f035e5bb8c2ab17",
            "73e555ef96b6460f93a7c1f9a3085694",
            "e291fb683729421296a34949fadd3474",
            "9809368c95e5400394c211d78154a763",
            "27d67aade52c466d81ba420479a8915e",
            "284454c70b924d699ee808d6475ed069",
            "a455e905a2ae430caf24b75c2c6b75ab",
            "3c8966f77f604182bd4f4b896854f47d",
            "ae2cba0a9cb047a7aa4704235ffe8ccf",
            "2a8e90f22b3d487faabd0f88bde36b6a",
            "e2f959a2354140e6bcd7b869f13ee93b",
            "fb9700cddd204bce9cdb7a71ea6e042b",
            "113b656159824ebc8fbd40db5d225d1b",
            "b1dbf5b6debc45acbbf4d18cb0737e69",
            "8f8d0fc06fc64affa5014dd2365d56bf",
            "a82dc664b436414d8d737a13a91df2be",
            "4a597277d91e4771ba0004b05ae71b2c",
            "96cf6d7626ce404b91b70bf8665f66b5",
            "ec4f0e48bd1c413fb13720ad957abce0",
            "390eeae0c2e049fbb2e508786ad23c92",
            "662fc17a4b1f4b08ad51bddd5d6b154f",
            "81fde903ca824ebfbabd3e13a0568d86",
            "b91dcc7e92ae48e59a66d40834927982",
            "5c8a6760f8bf4e5fafb17e4a1e746d83",
            "b35a6f84f4a84c8384fb826047aa7261",
            "f7bce3f99b9141ee89d44102d47a6e71",
            "c0740c2f298d4ab28edd6c8c2da513d0",
            "4f2bd87bfee64bf58a72c552ee27ced9",
            "187e1741c45f487da652c84625b86642",
            "af8e83dcbc8f431b9cd6259a584cd973",
            "70632968903d473ea7b10866a01fc2e9",
            "89e12bb8129d484980745a0f8e439640",
            "295e1bc51ae8457e99990181f71b1ed0",
            "547bc33067ba47f48a019498cd90d4d6",
            "6f7db26d87d643ee9e63fa28def8a4c4",
            "398c6d468d7c45889573d82a5d9defc7",
            "32d4769844e94045a337bb5a5e2bb7a4",
            "933d50ddb0f74587a855d7ab85042337",
            "514b820c1a6d438fb5222dd62a0237dd",
            "8ca9bd3f697d4bc7863be78d9226fb1e",
            "6335592a8c0646a3b5bb005d4ca6bf58",
            "c15f5398564d45b78b764bb189c1184f"
          ]
        },
        "outputId": "05267fda-eacb-4cd7-c9e4-854529f30659"
      },
      "execution_count": null,
      "outputs": [
        {
          "output_type": "stream",
          "name": "stdout",
          "text": [
            "Downloading http://fashion-mnist.s3-website.eu-central-1.amazonaws.com/train-images-idx3-ubyte.gz\n",
            "Downloading http://fashion-mnist.s3-website.eu-central-1.amazonaws.com/train-images-idx3-ubyte.gz to .../FashionMNIST/raw/train-images-idx3-ubyte.gz\n"
          ]
        },
        {
          "output_type": "display_data",
          "data": {
            "text/plain": [
              "  0%|          | 0/26421880 [00:00<?, ?it/s]"
            ],
            "application/vnd.jupyter.widget-view+json": {
              "version_major": 2,
              "version_minor": 0,
              "model_id": "b64faa73a06a423e8b8b51798f3c76ea"
            }
          },
          "metadata": {}
        },
        {
          "output_type": "stream",
          "name": "stdout",
          "text": [
            "Extracting .../FashionMNIST/raw/train-images-idx3-ubyte.gz to .../FashionMNIST/raw\n",
            "\n",
            "Downloading http://fashion-mnist.s3-website.eu-central-1.amazonaws.com/train-labels-idx1-ubyte.gz\n",
            "Downloading http://fashion-mnist.s3-website.eu-central-1.amazonaws.com/train-labels-idx1-ubyte.gz to .../FashionMNIST/raw/train-labels-idx1-ubyte.gz\n"
          ]
        },
        {
          "output_type": "display_data",
          "data": {
            "text/plain": [
              "  0%|          | 0/29515 [00:00<?, ?it/s]"
            ],
            "application/vnd.jupyter.widget-view+json": {
              "version_major": 2,
              "version_minor": 0,
              "model_id": "2a8e90f22b3d487faabd0f88bde36b6a"
            }
          },
          "metadata": {}
        },
        {
          "output_type": "stream",
          "name": "stdout",
          "text": [
            "Extracting .../FashionMNIST/raw/train-labels-idx1-ubyte.gz to .../FashionMNIST/raw\n",
            "\n",
            "Downloading http://fashion-mnist.s3-website.eu-central-1.amazonaws.com/t10k-images-idx3-ubyte.gz\n",
            "Downloading http://fashion-mnist.s3-website.eu-central-1.amazonaws.com/t10k-images-idx3-ubyte.gz to .../FashionMNIST/raw/t10k-images-idx3-ubyte.gz\n"
          ]
        },
        {
          "output_type": "display_data",
          "data": {
            "text/plain": [
              "  0%|          | 0/4422102 [00:00<?, ?it/s]"
            ],
            "application/vnd.jupyter.widget-view+json": {
              "version_major": 2,
              "version_minor": 0,
              "model_id": "662fc17a4b1f4b08ad51bddd5d6b154f"
            }
          },
          "metadata": {}
        },
        {
          "output_type": "stream",
          "name": "stdout",
          "text": [
            "Extracting .../FashionMNIST/raw/t10k-images-idx3-ubyte.gz to .../FashionMNIST/raw\n",
            "\n",
            "Downloading http://fashion-mnist.s3-website.eu-central-1.amazonaws.com/t10k-labels-idx1-ubyte.gz\n",
            "Downloading http://fashion-mnist.s3-website.eu-central-1.amazonaws.com/t10k-labels-idx1-ubyte.gz to .../FashionMNIST/raw/t10k-labels-idx1-ubyte.gz\n"
          ]
        },
        {
          "output_type": "display_data",
          "data": {
            "text/plain": [
              "  0%|          | 0/5148 [00:00<?, ?it/s]"
            ],
            "application/vnd.jupyter.widget-view+json": {
              "version_major": 2,
              "version_minor": 0,
              "model_id": "89e12bb8129d484980745a0f8e439640"
            }
          },
          "metadata": {}
        },
        {
          "output_type": "stream",
          "name": "stdout",
          "text": [
            "Extracting .../FashionMNIST/raw/t10k-labels-idx1-ubyte.gz to .../FashionMNIST/raw\n",
            "\n"
          ]
        }
      ]
    },
    {
      "cell_type": "markdown",
      "source": [
        "Load datasets"
      ],
      "metadata": {
        "id": "BO-Xj1dg_IQo"
      }
    },
    {
      "cell_type": "code",
      "source": [
        "# data loader\n",
        "batch_size=64\n",
        "#######how does batch size affect result? power of 2\n",
        "train_loader = DataLoader(train_dataset, batch_size=batch_size, shuffle=True)\n",
        "test_loader = DataLoader(test_dataset, batch_size=batch_size, shuffle=False)"
      ],
      "metadata": {
        "id": "06uthSAB_K6a"
      },
      "execution_count": null,
      "outputs": []
    },
    {
      "cell_type": "markdown",
      "source": [
        "Display sample pictures from the dataset"
      ],
      "metadata": {
        "id": "nmj3PLrJ_WmC"
      }
    },
    {
      "cell_type": "code",
      "source": [
        "sample_loader = DataLoader(test_dataset, batch_size=batch_size, shuffle=False)\n",
        "data=iter(sample_loader)\n",
        "samples,sample_labels=data.next()\n",
        "\n",
        "row_num=8 # if batch_size=64, plot matrix as 8x8\n",
        "column_num=int(batch_size/row_num)\n",
        "\n",
        "\n",
        "fig, axes = plt.subplots(row_num, column_num, figsize=(8, 8),\n",
        "                         subplot_kw={'xticks':[], 'yticks':[]},\n",
        "                         gridspec_kw=dict(hspace=0.1, wspace=0.1))\n",
        "\n",
        "for i, ax in enumerate(axes.flat):\n",
        "    ax.imshow(samples[i][0], cmap='Greys', interpolation='nearest')\n",
        "    ax.text(0.1, 0.1, sample_labels[i].numpy(), transform=ax.transAxes, color='green')"
      ],
      "metadata": {
        "colab": {
          "base_uri": "https://localhost:8080/",
          "height": 469
        },
        "id": "3H-vU4Dd_c4J",
        "outputId": "02685a63-2b55-445b-fe94-6749f479efb5"
      },
      "execution_count": null,
      "outputs": [
        {
          "output_type": "display_data",
          "data": {
            "text/plain": [
              "<Figure size 576x576 with 64 Axes>"
            ],
            "image/png": "[encoded data removed]"
          },
          "metadata": {}
        }
      ]
    },
    {
      "cell_type": "markdown",
      "source": [
        "Define a deep neural network"
      ],
      "metadata": {
        "id": "lGwLA9wtBhuZ"
      }
    },
    {
      "cell_type": "code",
      "source": [
        "class CNNExample(nn.Module):\n",
        "    \"\"\"\n",
        "    from: https://pytorch.org/tutorials/recipes/recipes/defining_a_neural_network.html\n",
        "    \"\"\"\n",
        "    def __init__(self):\n",
        "        super(CNNExample, self).__init__()\n",
        "        \n",
        "        # First 2D convolutional layer, taking in 1 input channel (grayscale image),\n",
        "        # outputting 32 convolutional features, with a square kernel size of 3\n",
        "        self.conv1 = nn.Conv2d(1, 32, 3, 1)\n",
        "        # Second 2D convolutional layer, taking in the 32 input layers,\n",
        "        # outputting 64 convolutional features, with a square kernel size of 3\n",
        "        self.conv2 = nn.Conv2d(32, 64, 3, 1)\n",
        "\n",
        "        # Designed to ensure that adjacent pixels are either all 0s or all active\n",
        "        # with an input probability\n",
        "        self.dropout1 = nn.Dropout2d(0.25)\n",
        "        self.dropout2 = nn.Dropout2d(0.5)\n",
        "\n",
        "        # First fully connected layer\n",
        "        self.fc1 = nn.Linear(9216, 128)\n",
        "        # Second fully connected layer that outputs our 10 labels\n",
        "        self.fc2 = nn.Linear(128, 10)\n",
        "    \n",
        "    def forward(self, x):\n",
        "        x = self.conv1(x) # conv layer 1\n",
        "        x = F.relu(x) # activation function\n",
        "        x = self.conv2(x) # conv layer 2\n",
        "        x = F.max_pool2d(x, 2) # pool layer\n",
        "        x = self.dropout1(x) # dropout layer 1\n",
        "        x = torch.flatten(x, 1) # flatten layer \n",
        "        x = self.fc1(x) # full connection layer 1\n",
        "        x = F.relu(x) # activation function\n",
        "        x = self.dropout2(x) # dropout layer 2\n",
        "        x = self.fc2(x) # full connection layer 2\n",
        "        output = F.log_softmax(x, dim=1) # output use softmax function\n",
        "        return output"
      ],
      "metadata": {
        "id": "uE3gLfqHBkXs"
      },
      "execution_count": null,
      "outputs": []
    },
    {
      "cell_type": "markdown",
      "source": [
        "Train the model"
      ],
      "metadata": {
        "id": "bGnwh0h8BwX3"
      }
    },
    {
      "cell_type": "code",
      "source": [
        "##########training############\n",
        "def train_model(model, train_loader, criterion, optimizer, num_epochs):\n",
        "    model.train()\n",
        "    for epoch in range(num_epochs):\n",
        "        train_loss=0\n",
        "        for data in train_loader:\n",
        "            img, label = data\n",
        "            #img = img.view(img.size(0),-1)\n",
        "            if use_gpu and cuda.is_available(): #if use_gpu switch is on\n",
        "                img=Variable(img).cuda()\n",
        "                label=Variable(label).cuda()\n",
        "            else:\n",
        "                img=Variable(img)\n",
        "                label=Variable(label)\n",
        "            ##forward training\n",
        "            out = model(img)\n",
        "            loss = criterion(out, label)\n",
        "            #loss=F.nll_loss(out,label)\n",
        "            train_loss += loss.data*label.size(0)\n",
        "            #print(loss.data)\n",
        "            #print(label.size(0))\n",
        "            train_loss+=loss.item()\n",
        "            # backward propagation\n",
        "            optimizer.zero_grad()\n",
        "            loss.backward()\n",
        "            optimizer.step()\n",
        "        #scheduler.step()\n",
        "        if (epoch+1)%(num_epochs/10) ==0:\n",
        "            print(f'Epoch {epoch+1}/{num_epochs}, eval_loss={train_loss/(len(test_dataset))}')\n",
        "    return model\n"
      ],
      "metadata": {
        "id": "PGtMSS05Bx8L"
      },
      "execution_count": null,
      "outputs": []
    },
    {
      "cell_type": "markdown",
      "source": [
        "Test the model"
      ],
      "metadata": {
        "id": "tpqOX8xBB9GO"
      }
    },
    {
      "cell_type": "code",
      "source": [
        "##########testing##########\n",
        "def test_model(model, criterion, test_loader):\n",
        "    eval_loss=0\n",
        "    eval_acc=0\n",
        "    #use evaluation model\n",
        "    model.eval()\n",
        "    for data in test_loader:\n",
        "        img, label = data\n",
        "        #img = img.view(img.size(0),-1)\n",
        "        if use_gpu and cuda.is_available(): #if use_gpu switch is on\n",
        "            img=Variable(img).cuda()\n",
        "            label=Variable(label).cuda()\n",
        "        else:\n",
        "            img=Variable(img)\n",
        "            label=Variable(label)\n",
        "        out = model(img)\n",
        "        loss = criterion(out, label)\n",
        "        eval_loss += loss.data*label.size(0)\n",
        "        _, pred = torch.max(out, 1) #???\n",
        "        num_correct = (pred==label).sum()\n",
        "        eval_acc += num_correct.data\n",
        "        #print('pred: {}, label: {}, num_correct: {}'.format(pred, label, num_correct))\n",
        "    loss=eval_loss/(len(test_dataset))\n",
        "    accuracy=eval_acc*1.0/(len(test_dataset))\n",
        "    print(f'Test Loss: {loss}, Acc: {accuracy}')\n",
        "    return loss, accuracy\n"
      ],
      "metadata": {
        "id": "JUzs4K0YB-Dd"
      },
      "execution_count": null,
      "outputs": []
    },
    {
      "cell_type": "markdown",
      "source": [
        "Put together"
      ],
      "metadata": {
        "id": "5DdF8jM6CDSS"
      }
    },
    {
      "cell_type": "code",
      "source": [
        "%%time\n",
        "\n",
        "#gpu switch on/off\n",
        "use_gpu=False\n",
        "\n",
        "# # define model\n",
        "# model=CNN()\n",
        "model=CNNExample()\n",
        "# model = CNN2()\n",
        "# print(model)\n",
        "\n",
        "if use_gpu and cuda.is_available():\n",
        "    print(f'using GPU: {cuda.get_device_properties(0)}')\n",
        "    model=model.cuda()\n",
        "else:\n",
        "    print('using CPU')\n",
        "    model=model.cpu()\n",
        "    \n",
        "# learning rate\n",
        "learning_rate=0.1\n",
        "#learning_rate=1\n",
        "    \n",
        "#---optimizer for training the neural network---\n",
        "# use Adadelta optimizer: https://pytorch.org/docs/stable/generated/torch.optim.Adadelta.html\n",
        "optimizer=optim.Adadelta(model.parameters(), lr=learning_rate)\n",
        "##---uncomment the following lines to try out different optimizers---\n",
        "#optimizer=optim.Adagrad(model.parameters(), lr=learning_rate)\n",
        "#optimizer=optim.Adam(model.parameters(), lr=learning_rate)\n",
        "#optimizer=optim.SGD(model.parameters(), lr=learning_rate)\n",
        "\n",
        "\n",
        "#---criterion is the cost or error function---\n",
        "criterion=nn.CrossEntropyLoss()\n",
        "#criterion=nn.NLLLoss()\n",
        "\n",
        "# #---scheduler---\n",
        "#scheduler = StepLR(optimizer, step_size=1, gamma=0.7) # need by NLLLoss\n",
        "\n",
        "# set number of epochs\n",
        "num_epochs=30\n",
        "\n",
        "# train model\n",
        "model = train_model(model, train_loader, criterion, optimizer, num_epochs)\n",
        "loss, accuracy=test_model(model, criterion, test_loader)\n"
      ],
      "metadata": {
        "colab": {
          "base_uri": "https://localhost:8080/"
        },
        "id": "pI0Cft5jCEhu",
        "outputId": "3efdd075-7b46-48bd-fc4e-0e10069d4b92"
      },
      "execution_count": null,
      "outputs": [
        {
          "output_type": "stream",
          "name": "stdout",
          "text": [
            "using CPU\n"
          ]
        },
        {
          "output_type": "stream",
          "name": "stderr",
          "text": [
            "/usr/local/lib/python3.7/dist-packages/torch/nn/functional.py:1331: UserWarning: dropout2d: Received a 2-D input to dropout2d, which is deprecated and will result in an error in a future release. To retain the behavior and silence this warning, please use dropout instead. Note that dropout2d exists to provide channel-wise dropout on inputs with 2 spatial dimensions, a channel dimension, and an optional batch dimension (i.e. 3D or 4D inputs).\n",
            "  warnings.warn(warn_msg)\n"
          ]
        },
        {
          "output_type": "stream",
          "name": "stdout",
          "text": [
            "Epoch 3/30, eval_loss=2.0973846912384033\n",
            "Epoch 6/30, eval_loss=1.6712979078292847\n",
            "Epoch 9/30, eval_loss=1.4332948923110962\n",
            "Epoch 12/30, eval_loss=1.2469563484191895\n",
            "Epoch 15/30, eval_loss=1.0995290279388428\n",
            "Epoch 18/30, eval_loss=0.9787993431091309\n",
            "Epoch 21/30, eval_loss=0.8772703409194946\n",
            "Epoch 24/30, eval_loss=0.7843967080116272\n",
            "Epoch 27/30, eval_loss=0.7292202711105347\n",
            "Epoch 30/30, eval_loss=0.6654070019721985\n",
            "Test Loss: 0.25037023425102234, Acc: 0.9262999892234802\n",
            "CPU times: user 1h 13min 27s, sys: 53.3 s, total: 1h 14min 20s\n",
            "Wall time: 1h 14min 5s\n"
          ]
        }
      ]
    },
    {
      "cell_type": "markdown",
      "source": [
        "Make prediction"
      ],
      "metadata": {
        "id": "6-W4bmN-W0Qr"
      }
    },
    {
      "cell_type": "code",
      "source": [
        "sample_size=batch_size\n",
        "# let shuffle be True to load random images each time\n",
        "sample_loader = DataLoader(test_dataset, batch_size=sample_size, shuffle=True) \n",
        "data=iter(sample_loader)\n",
        "samples,sample_labels=data.next()\n",
        "\n",
        "row_num=8 # if batch_size=64, plot matrix as 8x8\n",
        "column_num=int(batch_size/row_num)\n",
        "\n",
        "# output = model(samples.view(samples.size(0),-1))\n",
        "output=model(samples)\n",
        "_, pred = torch.max(output, 1)\n",
        "\n",
        "# print(sample_labels)\n",
        "# print(pred)\n",
        "\n",
        "fig, axes = plt.subplots(row_num, column_num, figsize=(8, 8),\n",
        "                         subplot_kw={'xticks':[], 'yticks':[]},\n",
        "                         gridspec_kw=dict(hspace=0.1, wspace=0.1))\n",
        "\n",
        "error = 0 # prediction error\n",
        "for i, ax in enumerate(axes.flat):\n",
        "    ax.imshow(samples[i][0], cmap='Greys', interpolation='nearest')\n",
        "    ax.text(0.1, 0.1, sample_labels[i].numpy(), transform=ax.transAxes, color='green')\n",
        "    if sample_labels[i].numpy()==pred[i].numpy():\n",
        "        color_pred='green'\n",
        "    else:\n",
        "        color_pred='red'\n",
        "        error+=1\n",
        "    ax.text(0.8, 0.1, pred[i].numpy(), transform=ax.transAxes, color=color_pred)\n",
        "\n",
        "accuracy_predict=(1-error*1.0/sample_size)*100\n",
        "print(f'Predition Errors: {error} of {sample_size} | Prediction accuracy: {accuracy_predict}%')\n"
      ],
      "metadata": {
        "colab": {
          "base_uri": "https://localhost:8080/",
          "height": 540
        },
        "id": "5ycgnzJtW6eE",
        "outputId": "a224ec44-1643-47a7-99a9-a5764a34fe67"
      },
      "execution_count": null,
      "outputs": [
        {
          "output_type": "stream",
          "name": "stderr",
          "text": [
            "/usr/local/lib/python3.7/dist-packages/torch/nn/functional.py:1331: UserWarning: dropout2d: Received a 2-D input to dropout2d, which is deprecated and will result in an error in a future release. To retain the behavior and silence this warning, please use dropout instead. Note that dropout2d exists to provide channel-wise dropout on inputs with 2 spatial dimensions, a channel dimension, and an optional batch dimension (i.e. 3D or 4D inputs).\n",
            "  warnings.warn(warn_msg)\n"
          ]
        },
        {
          "output_type": "stream",
          "name": "stdout",
          "text": [
            "Predition Errors: 6 of 64 | Prediction accuracy: 90.625%\n"
          ]
        },
        {
          "output_type": "display_data",
          "data": {
            "text/plain": [
              "<Figure size 576x576 with 64 Axes>"
            ],
            "image/png": "[encoded data removed]"
          },
          "metadata": {}
        }
      ]
    }
  ]
}